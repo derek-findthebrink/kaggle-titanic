{
 "cells": [
  {
   "cell_type": "code",
   "execution_count": 1,
   "metadata": {},
   "outputs": [
    {
     "name": "stderr",
     "output_type": "stream",
     "text": "/home/derek/anaconda3/envs/kaggle__titanic/lib/python3.7/site-packages/sklearn/externals/joblib/__init__.py:15: DeprecationWarning: sklearn.externals.joblib is deprecated in 0.21 and will be removed in 0.23. Please import this functionality directly from joblib, which can be installed with: pip install joblib. If this warning is raised when loading pickled models, you may need to re-serialize those models with scikit-learn 0.21+.\n  warnings.warn(msg, category=DeprecationWarning)\n"
    }
   ],
   "source": [
    "import numpy as np\n",
    "import pandas as pd\n",
    "import skopt\n",
    "from sklearn import metrics\n",
    "from skopt.plots import plot_convergence\n",
    "from sklearn.ensemble import RandomForestClassifier\n",
    "from sklearn.model_selection import train_test_split, cross_val_score\n",
    "\n",
    "results_array = []\n",
    "\n",
    "# helpers\n",
    "def get_mae(model, train_X, val_X, train_y, val_y):\n",
    "   model.fit(train_X, train_y)\n",
    "   preds_val = model.predict(val_X)\n",
    "   mae = metrics.mean_absolute_error(val_y, preds_val)\n",
    "   return(mae)\n",
    "\n",
    "def get_survival_rate(gender):\n",
    "    survival = training_data.loc[training_data.Sex == gender]['Survived']\n",
    "    return sum(survival) / len(survival)\n"
   ]
  },
  {
   "cell_type": "code",
   "execution_count": 2,
   "metadata": {},
   "outputs": [
    {
     "data": {
      "text/html": "<div>\n<style scoped>\n    .dataframe tbody tr th:only-of-type {\n        vertical-align: middle;\n    }\n\n    .dataframe tbody tr th {\n        vertical-align: top;\n    }\n\n    .dataframe thead th {\n        text-align: right;\n    }\n</style>\n<table border=\"1\" class=\"dataframe\">\n  <thead>\n    <tr style=\"text-align: right;\">\n      <th></th>\n      <th>PassengerId</th>\n      <th>Survived</th>\n      <th>Pclass</th>\n      <th>Name</th>\n      <th>Sex</th>\n      <th>Age</th>\n      <th>SibSp</th>\n      <th>Parch</th>\n      <th>Ticket</th>\n      <th>Fare</th>\n      <th>Cabin</th>\n      <th>Embarked</th>\n    </tr>\n  </thead>\n  <tbody>\n    <tr>\n      <th>0</th>\n      <td>1</td>\n      <td>0</td>\n      <td>3</td>\n      <td>Braund, Mr. Owen Harris</td>\n      <td>male</td>\n      <td>22.0</td>\n      <td>1</td>\n      <td>0</td>\n      <td>A/5 21171</td>\n      <td>7.2500</td>\n      <td>NaN</td>\n      <td>S</td>\n    </tr>\n    <tr>\n      <th>1</th>\n      <td>2</td>\n      <td>1</td>\n      <td>1</td>\n      <td>Cumings, Mrs. John Bradley (Florence Briggs Th...</td>\n      <td>female</td>\n      <td>38.0</td>\n      <td>1</td>\n      <td>0</td>\n      <td>PC 17599</td>\n      <td>71.2833</td>\n      <td>C85</td>\n      <td>C</td>\n    </tr>\n    <tr>\n      <th>2</th>\n      <td>3</td>\n      <td>1</td>\n      <td>3</td>\n      <td>Heikkinen, Miss. Laina</td>\n      <td>female</td>\n      <td>26.0</td>\n      <td>0</td>\n      <td>0</td>\n      <td>STON/O2. 3101282</td>\n      <td>7.9250</td>\n      <td>NaN</td>\n      <td>S</td>\n    </tr>\n    <tr>\n      <th>3</th>\n      <td>4</td>\n      <td>1</td>\n      <td>1</td>\n      <td>Futrelle, Mrs. Jacques Heath (Lily May Peel)</td>\n      <td>female</td>\n      <td>35.0</td>\n      <td>1</td>\n      <td>0</td>\n      <td>113803</td>\n      <td>53.1000</td>\n      <td>C123</td>\n      <td>S</td>\n    </tr>\n    <tr>\n      <th>4</th>\n      <td>5</td>\n      <td>0</td>\n      <td>3</td>\n      <td>Allen, Mr. William Henry</td>\n      <td>male</td>\n      <td>35.0</td>\n      <td>0</td>\n      <td>0</td>\n      <td>373450</td>\n      <td>8.0500</td>\n      <td>NaN</td>\n      <td>S</td>\n    </tr>\n  </tbody>\n</table>\n</div>",
      "text/plain": "   PassengerId  Survived  Pclass  \\\n0            1         0       3   \n1            2         1       1   \n2            3         1       3   \n3            4         1       1   \n4            5         0       3   \n\n                                                Name     Sex   Age  SibSp  \\\n0                            Braund, Mr. Owen Harris    male  22.0      1   \n1  Cumings, Mrs. John Bradley (Florence Briggs Th...  female  38.0      1   \n2                             Heikkinen, Miss. Laina  female  26.0      0   \n3       Futrelle, Mrs. Jacques Heath (Lily May Peel)  female  35.0      1   \n4                           Allen, Mr. William Henry    male  35.0      0   \n\n   Parch            Ticket     Fare Cabin Embarked  \n0      0         A/5 21171   7.2500   NaN        S  \n1      0          PC 17599  71.2833   C85        C  \n2      0  STON/O2. 3101282   7.9250   NaN        S  \n3      0            113803  53.1000  C123        S  \n4      0            373450   8.0500   NaN        S  "
     },
     "execution_count": 2,
     "metadata": {},
     "output_type": "execute_result"
    }
   ],
   "source": [
    "training_data = pd.read_csv('./data/train.csv')\n",
    "test_data = pd.read_csv('./data/test.csv')\n",
    "\n",
    "training_data.head()"
   ]
  },
  {
   "cell_type": "code",
   "execution_count": 3,
   "metadata": {},
   "outputs": [
    {
     "data": {
      "text/html": "<div>\n<style scoped>\n    .dataframe tbody tr th:only-of-type {\n        vertical-align: middle;\n    }\n\n    .dataframe tbody tr th {\n        vertical-align: top;\n    }\n\n    .dataframe thead th {\n        text-align: right;\n    }\n</style>\n<table border=\"1\" class=\"dataframe\">\n  <thead>\n    <tr style=\"text-align: right;\">\n      <th></th>\n      <th>Gender</th>\n      <th>SurvivalRate</th>\n    </tr>\n  </thead>\n  <tbody>\n    <tr>\n      <th>0</th>\n      <td>female</td>\n      <td>0.742038</td>\n    </tr>\n    <tr>\n      <th>1</th>\n      <td>male</td>\n      <td>0.188908</td>\n    </tr>\n  </tbody>\n</table>\n</div>",
      "text/plain": "   Gender  SurvivalRate\n0  female      0.742038\n1    male      0.188908"
     },
     "execution_count": 3,
     "metadata": {},
     "output_type": "execute_result"
    }
   ],
   "source": [
    "data = [['female', get_survival_rate('female')], ['male', get_survival_rate('male')]]\n",
    "df_survival_rates = pd.DataFrame(data, columns=['Gender', 'SurvivalRate'])\n",
    "\n",
    "df_survival_rates"
   ]
  },
  {
   "cell_type": "code",
   "execution_count": 4,
   "metadata": {},
   "outputs": [
    {
     "data": {
      "text/html": "<div>\n<style scoped>\n    .dataframe tbody tr th:only-of-type {\n        vertical-align: middle;\n    }\n\n    .dataframe tbody tr th {\n        vertical-align: top;\n    }\n\n    .dataframe thead th {\n        text-align: right;\n    }\n</style>\n<table border=\"1\" class=\"dataframe\">\n  <thead>\n    <tr style=\"text-align: right;\">\n      <th></th>\n      <th>Pclass</th>\n      <th>SibSp</th>\n      <th>Parch</th>\n      <th>Age</th>\n      <th>Sex_female</th>\n      <th>Sex_male</th>\n      <th>Embarked_C</th>\n      <th>Embarked_Q</th>\n      <th>Embarked_S</th>\n    </tr>\n  </thead>\n  <tbody>\n    <tr>\n      <th>0</th>\n      <td>3</td>\n      <td>1</td>\n      <td>0</td>\n      <td>22.0</td>\n      <td>0</td>\n      <td>1</td>\n      <td>0</td>\n      <td>0</td>\n      <td>1</td>\n    </tr>\n    <tr>\n      <th>1</th>\n      <td>1</td>\n      <td>1</td>\n      <td>0</td>\n      <td>38.0</td>\n      <td>1</td>\n      <td>0</td>\n      <td>1</td>\n      <td>0</td>\n      <td>0</td>\n    </tr>\n    <tr>\n      <th>2</th>\n      <td>3</td>\n      <td>0</td>\n      <td>0</td>\n      <td>26.0</td>\n      <td>1</td>\n      <td>0</td>\n      <td>0</td>\n      <td>0</td>\n      <td>1</td>\n    </tr>\n    <tr>\n      <th>3</th>\n      <td>1</td>\n      <td>1</td>\n      <td>0</td>\n      <td>35.0</td>\n      <td>1</td>\n      <td>0</td>\n      <td>0</td>\n      <td>0</td>\n      <td>1</td>\n    </tr>\n    <tr>\n      <th>4</th>\n      <td>3</td>\n      <td>0</td>\n      <td>0</td>\n      <td>35.0</td>\n      <td>0</td>\n      <td>1</td>\n      <td>0</td>\n      <td>0</td>\n      <td>1</td>\n    </tr>\n  </tbody>\n</table>\n</div>",
      "text/plain": "   Pclass  SibSp  Parch   Age  Sex_female  Sex_male  Embarked_C  Embarked_Q  \\\n0       3      1      0  22.0           0         1           0           0   \n1       1      1      0  38.0           1         0           1           0   \n2       3      0      0  26.0           1         0           0           0   \n3       1      1      0  35.0           1         0           0           0   \n4       3      0      0  35.0           0         1           0           0   \n\n   Embarked_S  \n0           1  \n1           0  \n2           1  \n3           1  \n4           1  "
     },
     "execution_count": 4,
     "metadata": {},
     "output_type": "execute_result"
    }
   ],
   "source": [
    "# TODO: do proper dimensionality reduction + optimization\n",
    "# TODO: re-add 'Cabin' here\n",
    "\n",
    "features = ['Pclass', 'Sex', 'SibSp', 'Parch', 'Age', 'Embarked']\n",
    "dummy_columns = ['Sex', 'Embarked']\n",
    "\n",
    "# clean up the data before setting up features and dependent\n",
    "base_features = training_data[features]\n",
    "# QUESTION: why use median here? What about 0? Or what about base_features.mean ?\n",
    "base_features = base_features.fillna(base_features.median())\n",
    "\n",
    "X = pd.get_dummies(base_features, columns=dummy_columns)\n",
    "y = training_data['Survived']\n",
    "\n",
    "X.head()"
   ]
  },
  {
   "cell_type": "code",
   "execution_count": 5,
   "metadata": {},
   "outputs": [],
   "source": [
    "# create training and verification set\n",
    "train_X, val_X, train_y, val_y = train_test_split(X, y, random_state = 0)"
   ]
  },
  {
   "cell_type": "code",
   "execution_count": 11,
   "metadata": {},
   "outputs": [
    {
     "ename": "NameError",
     "evalue": "name 'debugger' is not defined",
     "output_type": "error",
     "traceback": [
      "\u001b[0;31m---------------------------------------------------------------------------\u001b[0m",
      "\u001b[0;31mNameError\u001b[0m                                 Traceback (most recent call last)",
      "\u001b[0;32m<ipython-input-11-e101eb444733>\u001b[0m in \u001b[0;36m<module>\u001b[0;34m\u001b[0m\n\u001b[1;32m     12\u001b[0m \u001b[0mbaseline_mae\u001b[0m \u001b[0;34m=\u001b[0m \u001b[0mget_mae\u001b[0m\u001b[0;34m(\u001b[0m\u001b[0mbaseline_model\u001b[0m\u001b[0;34m,\u001b[0m \u001b[0mtrain_X\u001b[0m\u001b[0;34m,\u001b[0m \u001b[0mval_X\u001b[0m\u001b[0;34m,\u001b[0m \u001b[0mtrain_y\u001b[0m\u001b[0;34m,\u001b[0m \u001b[0mval_y\u001b[0m\u001b[0;34m)\u001b[0m\u001b[0;34m\u001b[0m\u001b[0;34m\u001b[0m\u001b[0m\n\u001b[1;32m     13\u001b[0m \u001b[0mbaseline_mae\u001b[0m\u001b[0;34m\u001b[0m\u001b[0;34m\u001b[0m\u001b[0m\n\u001b[0;32m---> 14\u001b[0;31m \u001b[0mdebugger\u001b[0m\u001b[0;34m(\u001b[0m\u001b[0;34m)\u001b[0m\u001b[0;34m\u001b[0m\u001b[0;34m\u001b[0m\u001b[0m\n\u001b[0m",
      "\u001b[0;31mNameError\u001b[0m: name 'debugger' is not defined"
     ]
    }
   ],
   "source": [
    "# baseline model\n",
    "# -----------------------------------------------------------------------------\n",
    "baseline_model = RandomForestClassifier(\n",
    "        random_state=1,\n",
    "        n_estimators=100,\n",
    "        max_leaf_nodes=10,\n",
    ")\n",
    "\n",
    "# baseline_model.fit(train_X, train_y)\n",
    "# baseline_predicted = baseline_model.predict(val_X)\n",
    "# baseline_mae = metrics.mean_absolute_error(val_y, baseline_predicted)\n",
    "baseline_mae = get_mae(baseline_model, train_X, val_X, train_y, val_y)\n",
    "baseline_mae"
   ]
  },
  {
   "cell_type": "code",
   "execution_count": 7,
   "metadata": {},
   "outputs": [
    {
     "name": "stderr",
     "output_type": "stream",
     "text": "/home/derek/anaconda3/envs/kaggle__titanic/lib/python3.7/site-packages/skopt/optimizer/optimizer.py:399: UserWarning: The objective has been evaluated at this point before.\n  warnings.warn(\"The objective has been evaluated \"\n/home/derek/anaconda3/envs/kaggle__titanic/lib/python3.7/site-packages/skopt/optimizer/optimizer.py:399: UserWarning: The objective has been evaluated at this point before.\n  warnings.warn(\"The objective has been evaluated \"\n/home/derek/anaconda3/envs/kaggle__titanic/lib/python3.7/site-packages/skopt/optimizer/optimizer.py:399: UserWarning: The objective has been evaluated at this point before.\n  warnings.warn(\"The objective has been evaluated \"\n/home/derek/anaconda3/envs/kaggle__titanic/lib/python3.7/site-packages/skopt/optimizer/optimizer.py:399: UserWarning: The objective has been evaluated at this point before.\n  warnings.warn(\"The objective has been evaluated \"\n/home/derek/anaconda3/envs/kaggle__titanic/lib/python3.7/site-packages/skopt/optimizer/optimizer.py:399: UserWarning: The objective has been evaluated at this point before.\n  warnings.warn(\"The objective has been evaluated \"\n"
    }
   ],
   "source": [
    "# Hyperparameter-optimized model\n",
    "# ------------------------------------------------------------------------------\n",
    "SPACE = [\n",
    "          skopt.space.Integer(2, 1000, name=\"max_leaf_nodes\"),\n",
    "          skopt.space.Integer(2, 200, name=\"n_estimators\"),\n",
    "          skopt.space.Integer(2, 3000, name=\"max_depth\"),\n",
    "        ]\n",
    "\n",
    "hopt_model = RandomForestClassifier(\n",
    "        max_depth=5,\n",
    "        random_state=0,\n",
    ")\n",
    "\n",
    "@skopt.utils.use_named_args(SPACE)\n",
    "def objective(**params):\n",
    "    hopt_model.set_params(**params)\n",
    "    cvs = cross_val_score(hopt_model, X, y, cv=5, n_jobs=-1, scoring=\"accuracy\")\n",
    "    # turning final to a positive number increases MAE (therefore leave it positive)\n",
    "    final = -np.mean(cvs)\n",
    "    return final\n",
    "\n",
    "optimize_results = skopt.gp_minimize(objective, SPACE, n_calls=50, random_state=0)"
   ]
  },
  {
   "cell_type": "code",
   "execution_count": 8,
   "metadata": {},
   "outputs": [
    {
     "data": {
      "text/plain": "          fun: -0.8249495795249784\n    func_vals: array([-0.80254001, -0.80141642, -0.79023075, -0.80365733, -0.80365733,\n       -0.7991566 , -0.80253374, -0.79915653, -0.80030538, -0.80144809,\n       -0.79122217, -0.78671502, -0.79798272, -0.77780815, -0.78456213,\n       -0.80365733, -0.82381336, -0.81822684, -0.78671502, -0.80253374,\n       -0.78678429, -0.80253374, -0.80253374, -0.78671502, -0.80367638,\n       -0.78456213, -0.80253374, -0.78671502, -0.78456213, -0.78671502,\n       -0.79122217, -0.78671502, -0.81712828, -0.81043065, -0.80253374,\n       -0.82269604, -0.82494958, -0.79346936, -0.82378176, -0.81935043,\n       -0.78671502, -0.80920006, -0.80253374, -0.80471195, -0.78671502,\n       -0.80137255, -0.80365106, -0.8047372 , -0.82160397, -0.82158507])\n       models: [GaussianProcessRegressor(alpha=1e-10, copy_X_train=True,\n                         kernel=1**2 * Matern(length_scale=[1, 1, 1], nu=2.5) + WhiteKernel(noise_level=1),\n                         n_restarts_optimizer=2, noise='gaussian',\n                         normalize_y=True, optimizer='fmin_l_bfgs_b',\n                         random_state=209652396), GaussianProcessRegressor(alpha=1e-10, copy_X_train=True,\n                         kernel=1**2 * Matern(length_scale=[1, 1, 1], nu=2.5) + WhiteKernel(noise_level=1),\n                         n_restarts_optimizer=2, noise='gaussian',\n                         normalize_y=True, optimizer='fmin_l_bfgs_b',\n                         random_state=209652396), GaussianProcessRegressor(alpha=1e-10, copy_X_train=True,\n                         kernel=1**2 * Matern(length_scale=[1, 1, 1], nu=2.5) + WhiteKernel(noise_level=1),\n                         n_restarts_optimizer=2, noise='gaussian',\n                         normalize_y=True, optimizer='fmin_l_bfgs_b',\n                         random_state=209652396), GaussianProcessRegressor(alpha=1e-10, copy_X_train=True,\n                         kernel=1**2 * Matern(length_scale=[1, 1, 1], nu=2.5) + WhiteKernel(noise_level=1),\n                         n_restarts_optimizer=2, noise='gaussian',\n                         normalize_y=True, optimizer='fmin_l_bfgs_b',\n                         random_state=209652396), GaussianProcessRegressor(alpha=1e-10, copy_X_train=True,\n                         kernel=1**2 * Matern(length_scale=[1, 1, 1], nu=2.5) + WhiteKernel(noise_level=1),\n                         n_restarts_optimizer=2, noise='gaussian',\n                         normalize_y=True, optimizer='fmin_l_bfgs_b',\n                         random_state=209652396), GaussianProcessRegressor(alpha=1e-10, copy_X_train=True,\n                         kernel=1**2 * Matern(length_scale=[1, 1, 1], nu=2.5) + WhiteKernel(noise_level=1),\n                         n_restarts_optimizer=2, noise='gaussian',\n                         normalize_y=True, optimizer='fmin_l_bfgs_b',\n                         random_state=209652396), GaussianProcessRegressor(alpha=1e-10, copy_X_train=True,\n                         kernel=1**2 * Matern(length_scale=[1, 1, 1], nu=2.5) + WhiteKernel(noise_level=1),\n                         n_restarts_optimizer=2, noise='gaussian',\n                         normalize_y=True, optimizer='fmin_l_bfgs_b',\n                         random_state=209652396), GaussianProcessRegressor(alpha=1e-10, copy_X_train=True,\n                         kernel=1**2 * Matern(length_scale=[1, 1, 1], nu=2.5) + WhiteKernel(noise_level=1),\n                         n_restarts_optimizer=2, noise='gaussian',\n                         normalize_y=True, optimizer='fmin_l_bfgs_b',\n                         random_state=209652396), GaussianProcessRegressor(alpha=1e-10, copy_X_train=True,\n                         kernel=1**2 * Matern(length_scale=[1, 1, 1], nu=2.5) + WhiteKernel(noise_level=1),\n                         n_restarts_optimizer=2, noise='gaussian',\n                         normalize_y=True, optimizer='fmin_l_bfgs_b',\n                         random_state=209652396), GaussianProcessRegressor(alpha=1e-10, copy_X_train=True,\n                         kernel=1**2 * Matern(length_scale=[1, 1, 1], nu=2.5) + WhiteKernel(noise_level=1),\n                         n_restarts_optimizer=2, noise='gaussian',\n                         normalize_y=True, optimizer='fmin_l_bfgs_b',\n                         random_state=209652396), GaussianProcessRegressor(alpha=1e-10, copy_X_train=True,\n                         kernel=1**2 * Matern(length_scale=[1, 1, 1], nu=2.5) + WhiteKernel(noise_level=1),\n                         n_restarts_optimizer=2, noise='gaussian',\n                         normalize_y=True, optimizer='fmin_l_bfgs_b',\n                         random_state=209652396), GaussianProcessRegressor(alpha=1e-10, copy_X_train=True,\n                         kernel=1**2 * Matern(length_scale=[1, 1, 1], nu=2.5) + WhiteKernel(noise_level=1),\n                         n_restarts_optimizer=2, noise='gaussian',\n                         normalize_y=True, optimizer='fmin_l_bfgs_b',\n                         random_state=209652396), GaussianProcessRegressor(alpha=1e-10, copy_X_train=True,\n                         kernel=1**2 * Matern(length_scale=[1, 1, 1], nu=2.5) + WhiteKernel(noise_level=1),\n                         n_restarts_optimizer=2, noise='gaussian',\n                         normalize_y=True, optimizer='fmin_l_bfgs_b',\n                         random_state=209652396), GaussianProcessRegressor(alpha=1e-10, copy_X_train=True,\n                         kernel=1**2 * Matern(length_scale=[1, 1, 1], nu=2.5) + WhiteKernel(noise_level=1),\n                         n_restarts_optimizer=2, noise='gaussian',\n                         normalize_y=True, optimizer='fmin_l_bfgs_b',\n                         random_state=209652396), GaussianProcessRegressor(alpha=1e-10, copy_X_train=True,\n                         kernel=1**2 * Matern(length_scale=[1, 1, 1], nu=2.5) + WhiteKernel(noise_level=1),\n                         n_restarts_optimizer=2, noise='gaussian',\n                         normalize_y=True, optimizer='fmin_l_bfgs_b',\n                         random_state=209652396), GaussianProcessRegressor(alpha=1e-10, copy_X_train=True,\n                         kernel=1**2 * Matern(length_scale=[1, 1, 1], nu=2.5) + WhiteKernel(noise_level=1),\n                         n_restarts_optimizer=2, noise='gaussian',\n                         normalize_y=True, optimizer='fmin_l_bfgs_b',\n                         random_state=209652396), GaussianProcessRegressor(alpha=1e-10, copy_X_train=True,\n                         kernel=1**2 * Matern(length_scale=[1, 1, 1], nu=2.5) + WhiteKernel(noise_level=1),\n                         n_restarts_optimizer=2, noise='gaussian',\n                         normalize_y=True, optimizer='fmin_l_bfgs_b',\n                         random_state=209652396), GaussianProcessRegressor(alpha=1e-10, copy_X_train=True,\n                         kernel=1**2 * Matern(length_scale=[1, 1, 1], nu=2.5) + WhiteKernel(noise_level=1),\n                         n_restarts_optimizer=2, noise='gaussian',\n                         normalize_y=True, optimizer='fmin_l_bfgs_b',\n                         random_state=209652396), GaussianProcessRegressor(alpha=1e-10, copy_X_train=True,\n                         kernel=1**2 * Matern(length_scale=[1, 1, 1], nu=2.5) + WhiteKernel(noise_level=1),\n                         n_restarts_optimizer=2, noise='gaussian',\n                         normalize_y=True, optimizer='fmin_l_bfgs_b',\n                         random_state=209652396), GaussianProcessRegressor(alpha=1e-10, copy_X_train=True,\n                         kernel=1**2 * Matern(length_scale=[1, 1, 1], nu=2.5) + WhiteKernel(noise_level=1),\n                         n_restarts_optimizer=2, noise='gaussian',\n                         normalize_y=True, optimizer='fmin_l_bfgs_b',\n                         random_state=209652396), GaussianProcessRegressor(alpha=1e-10, copy_X_train=True,\n                         kernel=1**2 * Matern(length_scale=[1, 1, 1], nu=2.5) + WhiteKernel(noise_level=1),\n                         n_restarts_optimizer=2, noise='gaussian',\n                         normalize_y=True, optimizer='fmin_l_bfgs_b',\n                         random_state=209652396), GaussianProcessRegressor(alpha=1e-10, copy_X_train=True,\n                         kernel=1**2 * Matern(length_scale=[1, 1, 1], nu=2.5) + WhiteKernel(noise_level=1),\n                         n_restarts_optimizer=2, noise='gaussian',\n                         normalize_y=True, optimizer='fmin_l_bfgs_b',\n                         random_state=209652396), GaussianProcessRegressor(alpha=1e-10, copy_X_train=True,\n                         kernel=1**2 * Matern(length_scale=[1, 1, 1], nu=2.5) + WhiteKernel(noise_level=1),\n                         n_restarts_optimizer=2, noise='gaussian',\n                         normalize_y=True, optimizer='fmin_l_bfgs_b',\n                         random_state=209652396), GaussianProcessRegressor(alpha=1e-10, copy_X_train=True,\n                         kernel=1**2 * Matern(length_scale=[1, 1, 1], nu=2.5) + WhiteKernel(noise_level=1),\n                         n_restarts_optimizer=2, noise='gaussian',\n                         normalize_y=True, optimizer='fmin_l_bfgs_b',\n                         random_state=209652396), GaussianProcessRegressor(alpha=1e-10, copy_X_train=True,\n                         kernel=1**2 * Matern(length_scale=[1, 1, 1], nu=2.5) + WhiteKernel(noise_level=1),\n                         n_restarts_optimizer=2, noise='gaussian',\n                         normalize_y=True, optimizer='fmin_l_bfgs_b',\n                         random_state=209652396), GaussianProcessRegressor(alpha=1e-10, copy_X_train=True,\n                         kernel=1**2 * Matern(length_scale=[1, 1, 1], nu=2.5) + WhiteKernel(noise_level=1),\n                         n_restarts_optimizer=2, noise='gaussian',\n                         normalize_y=True, optimizer='fmin_l_bfgs_b',\n                         random_state=209652396), GaussianProcessRegressor(alpha=1e-10, copy_X_train=True,\n                         kernel=1**2 * Matern(length_scale=[1, 1, 1], nu=2.5) + WhiteKernel(noise_level=1),\n                         n_restarts_optimizer=2, noise='gaussian',\n                         normalize_y=True, optimizer='fmin_l_bfgs_b',\n                         random_state=209652396), GaussianProcessRegressor(alpha=1e-10, copy_X_train=True,\n                         kernel=1**2 * Matern(length_scale=[1, 1, 1], nu=2.5) + WhiteKernel(noise_level=1),\n                         n_restarts_optimizer=2, noise='gaussian',\n                         normalize_y=True, optimizer='fmin_l_bfgs_b',\n                         random_state=209652396), GaussianProcessRegressor(alpha=1e-10, copy_X_train=True,\n                         kernel=1**2 * Matern(length_scale=[1, 1, 1], nu=2.5) + WhiteKernel(noise_level=1),\n                         n_restarts_optimizer=2, noise='gaussian',\n                         normalize_y=True, optimizer='fmin_l_bfgs_b',\n                         random_state=209652396), GaussianProcessRegressor(alpha=1e-10, copy_X_train=True,\n                         kernel=1**2 * Matern(length_scale=[1, 1, 1], nu=2.5) + WhiteKernel(noise_level=1),\n                         n_restarts_optimizer=2, noise='gaussian',\n                         normalize_y=True, optimizer='fmin_l_bfgs_b',\n                         random_state=209652396), GaussianProcessRegressor(alpha=1e-10, copy_X_train=True,\n                         kernel=1**2 * Matern(length_scale=[1, 1, 1], nu=2.5) + WhiteKernel(noise_level=1),\n                         n_restarts_optimizer=2, noise='gaussian',\n                         normalize_y=True, optimizer='fmin_l_bfgs_b',\n                         random_state=209652396), GaussianProcessRegressor(alpha=1e-10, copy_X_train=True,\n                         kernel=1**2 * Matern(length_scale=[1, 1, 1], nu=2.5) + WhiteKernel(noise_level=1),\n                         n_restarts_optimizer=2, noise='gaussian',\n                         normalize_y=True, optimizer='fmin_l_bfgs_b',\n                         random_state=209652396), GaussianProcessRegressor(alpha=1e-10, copy_X_train=True,\n                         kernel=1**2 * Matern(length_scale=[1, 1, 1], nu=2.5) + WhiteKernel(noise_level=1),\n                         n_restarts_optimizer=2, noise='gaussian',\n                         normalize_y=True, optimizer='fmin_l_bfgs_b',\n                         random_state=209652396), GaussianProcessRegressor(alpha=1e-10, copy_X_train=True,\n                         kernel=1**2 * Matern(length_scale=[1, 1, 1], nu=2.5) + WhiteKernel(noise_level=1),\n                         n_restarts_optimizer=2, noise='gaussian',\n                         normalize_y=True, optimizer='fmin_l_bfgs_b',\n                         random_state=209652396), GaussianProcessRegressor(alpha=1e-10, copy_X_train=True,\n                         kernel=1**2 * Matern(length_scale=[1, 1, 1], nu=2.5) + WhiteKernel(noise_level=1),\n                         n_restarts_optimizer=2, noise='gaussian',\n                         normalize_y=True, optimizer='fmin_l_bfgs_b',\n                         random_state=209652396), GaussianProcessRegressor(alpha=1e-10, copy_X_train=True,\n                         kernel=1**2 * Matern(length_scale=[1, 1, 1], nu=2.5) + WhiteKernel(noise_level=1),\n                         n_restarts_optimizer=2, noise='gaussian',\n                         normalize_y=True, optimizer='fmin_l_bfgs_b',\n                         random_state=209652396), GaussianProcessRegressor(alpha=1e-10, copy_X_train=True,\n                         kernel=1**2 * Matern(length_scale=[1, 1, 1], nu=2.5) + WhiteKernel(noise_level=1),\n                         n_restarts_optimizer=2, noise='gaussian',\n                         normalize_y=True, optimizer='fmin_l_bfgs_b',\n                         random_state=209652396), GaussianProcessRegressor(alpha=1e-10, copy_X_train=True,\n                         kernel=1**2 * Matern(length_scale=[1, 1, 1], nu=2.5) + WhiteKernel(noise_level=1),\n                         n_restarts_optimizer=2, noise='gaussian',\n                         normalize_y=True, optimizer='fmin_l_bfgs_b',\n                         random_state=209652396), GaussianProcessRegressor(alpha=1e-10, copy_X_train=True,\n                         kernel=1**2 * Matern(length_scale=[1, 1, 1], nu=2.5) + WhiteKernel(noise_level=1),\n                         n_restarts_optimizer=2, noise='gaussian',\n                         normalize_y=True, optimizer='fmin_l_bfgs_b',\n                         random_state=209652396), GaussianProcessRegressor(alpha=1e-10, copy_X_train=True,\n                         kernel=1**2 * Matern(length_scale=[1, 1, 1], nu=2.5) + WhiteKernel(noise_level=1),\n                         n_restarts_optimizer=2, noise='gaussian',\n                         normalize_y=True, optimizer='fmin_l_bfgs_b',\n                         random_state=209652396), GaussianProcessRegressor(alpha=1e-10, copy_X_train=True,\n                         kernel=1**2 * Matern(length_scale=[1, 1, 1], nu=2.5) + WhiteKernel(noise_level=1),\n                         n_restarts_optimizer=2, noise='gaussian',\n                         normalize_y=True, optimizer='fmin_l_bfgs_b',\n                         random_state=209652396)]\n random_state: RandomState(MT19937) at 0x7F64F3107270\n        space: Space([Integer(low=2, high=1000),\n       Integer(low=2, high=200),\n       Integer(low=2, high=3000)])\n        specs: {'args': {'func': <function objective at 0x7f64f3015ef0>, 'dimensions': Space([Integer(low=2, high=1000),\n       Integer(low=2, high=200),\n       Integer(low=2, high=3000)]), 'base_estimator': GaussianProcessRegressor(alpha=1e-10, copy_X_train=True,\n                         kernel=1**2 * Matern(length_scale=[1, 1, 1], nu=2.5),\n                         n_restarts_optimizer=2, noise='gaussian',\n                         normalize_y=True, optimizer='fmin_l_bfgs_b',\n                         random_state=209652396), 'n_calls': 50, 'n_random_starts': 10, 'acq_func': 'gp_hedge', 'acq_optimizer': 'auto', 'x0': None, 'y0': None, 'random_state': RandomState(MT19937) at 0x7F64F3107270, 'verbose': False, 'callback': None, 'n_points': 10000, 'n_restarts_optimizer': 5, 'xi': 0.01, 'kappa': 1.96, 'n_jobs': 1}, 'function': 'base_minimize'}\n            x: [22, 194, 1150]\n      x_iters: [[594, 169, 2574], [848, 125, 1154], [299, 13, 819], [479, 163, 1441], [394, 168, 1014], [649, 75, 2872], [142, 174, 1422], [801, 105, 2037], [721, 117, 1613], [759, 23, 1422], [1000, 200, 2], [2, 200, 3000], [17, 3, 2913], [1000, 2, 2], [976, 2, 1996], [142, 199, 2858], [21, 200, 1834], [31, 196, 11], [2, 200, 2], [996, 199, 2666], [31, 2, 2949], [967, 200, 215], [988, 200, 2851], [2, 200, 3000], [44, 3, 175], [979, 2, 168], [998, 199, 194], [2, 200, 2], [160, 2, 2942], [2, 200, 3000], [1000, 200, 2], [2, 200, 3000], [51, 199, 1418], [95, 200, 1520], [882, 200, 1487], [20, 199, 1557], [22, 194, 1150], [4, 197, 1992], [10, 199, 1046], [31, 197, 949], [2, 200, 1104], [9, 6, 1490], [990, 200, 1544], [16, 5, 1248], [2, 200, 1333], [7, 3, 1745], [984, 196, 1686], [19, 8, 44], [25, 181, 7], [24, 195, 21]]"
     },
     "execution_count": 8,
     "metadata": {},
     "output_type": "execute_result"
    }
   ],
   "source": [
    "optimize_results"
   ]
  },
  {
   "cell_type": "code",
   "execution_count": 9,
   "metadata": {},
   "outputs": [
    {
     "data": {
      "text/plain": "0.18385650224215247"
     },
     "execution_count": 9,
     "metadata": {},
     "output_type": "execute_result"
    }
   ],
   "source": [
    "hopt_model = RandomForestClassifier(\n",
    "        random_state=0,\n",
    "        max_leaf_nodes=optimize_results.x[0],\n",
    "        n_estimators=optimize_results.x[1],\n",
    "        max_depth=optimize_results.x[2],\n",
    ")\n",
    "\n",
    "hopt_mae = get_mae(hopt_model, train_X, val_X, train_y, val_y)\n",
    "\n",
    "hopt_mae"
   ]
  },
  {
   "cell_type": "code",
   "execution_count": 10,
   "metadata": {},
   "outputs": [],
   "source": [
    "model_results = pd.DataFrame()"
   ]
  }
 ],
 "metadata": {
  "kernelspec": {
   "display_name": "Python 3",
   "language": "python",
   "name": "python3"
  },
  "language_info": {
   "codemirror_mode": {
    "name": "ipython",
    "version": 3
   },
   "file_extension": ".py",
   "mimetype": "text/x-python",
   "name": "python",
   "nbconvert_exporter": "python",
   "pygments_lexer": "ipython3",
   "version": "3.7.5"
  }
 },
 "nbformat": 4,
 "nbformat_minor": 2
}